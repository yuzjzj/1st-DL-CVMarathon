{
 "cells": [
  {
   "cell_type": "markdown",
   "metadata": {},
   "source": [
    "## 『本次練習內容』\n",
    "#### 運用這幾天所學觀念搭建一個CNN分類器"
   ]
  },
  {
   "cell_type": "markdown",
   "metadata": {},
   "source": [
    "## 『本次練習目的』\n",
    "  #### 熟悉CNN分類器搭建步驟與原理\n",
    "  #### 學員們可以嘗試不同搭法，如使用不同的Maxpooling層，用GlobalAveragePooling取代Flatten等等"
   ]
  },
  {
   "cell_type": "code",
   "execution_count": 1,
   "metadata": {},
   "outputs": [],
   "source": [
    "from tensorflow.keras.models import Sequential\n",
    "from tensorflow.keras.layers import Convolution2D\n",
    "from tensorflow.keras.layers import MaxPooling2D\n",
    "from tensorflow.keras.layers import Flatten\n",
    "from tensorflow.keras.layers import Dense\n",
    "from tensorflow.keras.layers import Dropout\n",
    "from tensorflow.keras.layers import BatchNormalization\n",
    "from tensorflow.keras.datasets import cifar10\n",
    "import numpy as np\n",
    "import tensorflow as tf\n",
    "from sklearn.preprocessing import OneHotEncoder\n"
   ]
  },
  {
   "cell_type": "code",
   "execution_count": 2,
   "metadata": {},
   "outputs": [
    {
     "name": "stdout",
     "output_type": "stream",
     "text": [
      "(50000, 32, 32, 3)\n"
     ]
    }
   ],
   "source": [
    "(x_train, y_train), (x_test, y_test) = cifar10.load_data()\n",
    "\n",
    "print(x_train.shape) #(50000, 32, 32, 3)\n",
    "\n",
    "## Normalize Data\n",
    "def normalize(X_train,X_test):\n",
    "        mean = np.mean(X_train,axis=(0,1,2,3))\n",
    "        std = np.std(X_train, axis=(0, 1, 2, 3))\n",
    "        X_train = (X_train-mean)/(std+1e-7)\n",
    "        X_test = (X_test-mean)/(std+1e-7) \n",
    "        return X_train, X_test,mean,std\n",
    "    \n",
    "    \n",
    "## Normalize Training and Testset    \n",
    "x_train, x_test,mean_train,std_train = normalize(x_train, x_test) "
   ]
  },
  {
   "cell_type": "code",
   "execution_count": 3,
   "metadata": {},
   "outputs": [
    {
     "name": "stderr",
     "output_type": "stream",
     "text": [
      "/home/yuzjzj/miniconda3/envs/t2/lib/python3.6/site-packages/sklearn/preprocessing/_encoders.py:415: FutureWarning: The handling of integer data will change in version 0.22. Currently, the categories are determined based on the range [0, max(values)], while in the future they will be determined based on the unique values.\n",
      "If you want the future behaviour and silence this warning, you can specify \"categories='auto'\".\n",
      "In case you used a LabelEncoder before this OneHotEncoder to convert the categories to integers, then you can now use the OneHotEncoder directly.\n",
      "  warnings.warn(msg, FutureWarning)\n"
     ]
    }
   ],
   "source": [
    "## OneHot Label 由(None, 1)-(None, 10)\n",
    "## ex. label=2,變成[0,0,1,0,0,0,0,0,0,0]\n",
    "one_hot=OneHotEncoder()\n",
    "y_train=one_hot.fit_transform(y_train).toarray()\n",
    "y_test=one_hot.transform(y_test).toarray()"
   ]
  },
  {
   "cell_type": "code",
   "execution_count": 4,
   "metadata": {
    "scrolled": true
   },
   "outputs": [
    {
     "name": "stdout",
     "output_type": "stream",
     "text": [
      "Train on 50000 samples\n",
      "Epoch 1/100\n",
      "50000/50000 [==============================] - 8s 162us/sample - loss: 1.4376 - accuracy: 0.4973\n",
      "Epoch 2/100\n",
      "50000/50000 [==============================] - 6s 126us/sample - loss: 1.0235 - accuracy: 0.6406\n",
      "Epoch 3/100\n",
      "50000/50000 [==============================] - 6s 126us/sample - loss: 0.8736 - accuracy: 0.6923\n",
      "Epoch 4/100\n",
      "50000/50000 [==============================] - 6s 126us/sample - loss: 0.7693 - accuracy: 0.7303\n",
      "Epoch 5/100\n",
      "50000/50000 [==============================] - 6s 126us/sample - loss: 0.6749 - accuracy: 0.7641\n",
      "Epoch 6/100\n",
      "50000/50000 [==============================] - 6s 127us/sample - loss: 0.5852 - accuracy: 0.7974\n",
      "Epoch 7/100\n",
      "50000/50000 [==============================] - 6s 126us/sample - loss: 0.4979 - accuracy: 0.8287\n",
      "Epoch 8/100\n",
      "50000/50000 [==============================] - 6s 125us/sample - loss: 0.4184 - accuracy: 0.8556\n",
      "Epoch 9/100\n",
      "50000/50000 [==============================] - 6s 126us/sample - loss: 0.3407 - accuracy: 0.8844\n",
      "Epoch 10/100\n",
      "50000/50000 [==============================] - 6s 126us/sample - loss: 0.2776 - accuracy: 0.9060\n",
      "Epoch 11/100\n",
      "50000/50000 [==============================] - 6s 126us/sample - loss: 0.2233 - accuracy: 0.9247\n",
      "Epoch 12/100\n",
      "50000/50000 [==============================] - 6s 126us/sample - loss: 0.1809 - accuracy: 0.9392\n",
      "Epoch 13/100\n",
      "50000/50000 [==============================] - 6s 126us/sample - loss: 0.1515 - accuracy: 0.9488\n",
      "Epoch 14/100\n",
      "50000/50000 [==============================] - 6s 127us/sample - loss: 0.1264 - accuracy: 0.9574\n",
      "Epoch 15/100\n",
      "50000/50000 [==============================] - 6s 126us/sample - loss: 0.1125 - accuracy: 0.9632\n",
      "Epoch 16/100\n",
      "50000/50000 [==============================] - 6s 126us/sample - loss: 0.1054 - accuracy: 0.9643\n",
      "Epoch 17/100\n",
      "50000/50000 [==============================] - 6s 126us/sample - loss: 0.0855 - accuracy: 0.9722\n",
      "Epoch 18/100\n",
      "50000/50000 [==============================] - 6s 126us/sample - loss: 0.0811 - accuracy: 0.9724\n",
      "Epoch 19/100\n",
      "50000/50000 [==============================] - 6s 126us/sample - loss: 0.0805 - accuracy: 0.9727\n",
      "Epoch 20/100\n",
      "50000/50000 [==============================] - 6s 127us/sample - loss: 0.0813 - accuracy: 0.9732\n",
      "Epoch 21/100\n",
      "50000/50000 [==============================] - 6s 126us/sample - loss: 0.0636 - accuracy: 0.9785\n",
      "Epoch 22/100\n",
      "50000/50000 [==============================] - 6s 126us/sample - loss: 0.0558 - accuracy: 0.9819\n",
      "Epoch 23/100\n",
      "50000/50000 [==============================] - 6s 127us/sample - loss: 0.0559 - accuracy: 0.9814\n",
      "Epoch 24/100\n",
      "50000/50000 [==============================] - 6s 127us/sample - loss: 0.0582 - accuracy: 0.9811\n",
      "Epoch 25/100\n",
      "50000/50000 [==============================] - 6s 126us/sample - loss: 0.0722 - accuracy: 0.9749\n",
      "Epoch 26/100\n",
      "50000/50000 [==============================] - 6s 126us/sample - loss: 0.0463 - accuracy: 0.9841\n",
      "Epoch 27/100\n",
      "50000/50000 [==============================] - 6s 126us/sample - loss: 0.0352 - accuracy: 0.9887\n",
      "Epoch 28/100\n",
      "50000/50000 [==============================] - 6s 127us/sample - loss: 0.0463 - accuracy: 0.9846\n",
      "Epoch 29/100\n",
      "50000/50000 [==============================] - 6s 127us/sample - loss: 0.0525 - accuracy: 0.9819\n",
      "Epoch 30/100\n",
      "50000/50000 [==============================] - 6s 127us/sample - loss: 0.0559 - accuracy: 0.9811\n",
      "Epoch 31/100\n",
      "50000/50000 [==============================] - 6s 126us/sample - loss: 0.0523 - accuracy: 0.9832\n",
      "Epoch 32/100\n",
      "50000/50000 [==============================] - 6s 126us/sample - loss: 0.0373 - accuracy: 0.9885\n",
      "Epoch 33/100\n",
      "50000/50000 [==============================] - 6s 129us/sample - loss: 0.0299 - accuracy: 0.9902\n",
      "Epoch 34/100\n",
      "50000/50000 [==============================] - 6s 126us/sample - loss: 0.0388 - accuracy: 0.9870\n",
      "Epoch 35/100\n",
      "50000/50000 [==============================] - 6s 126us/sample - loss: 0.0603 - accuracy: 0.9805\n",
      "Epoch 36/100\n",
      "50000/50000 [==============================] - 6s 126us/sample - loss: 0.0388 - accuracy: 0.9873\n",
      "Epoch 37/100\n",
      "50000/50000 [==============================] - 6s 125us/sample - loss: 0.0288 - accuracy: 0.9906\n",
      "Epoch 38/100\n",
      "50000/50000 [==============================] - 6s 126us/sample - loss: 0.0360 - accuracy: 0.9883\n",
      "Epoch 39/100\n",
      "50000/50000 [==============================] - 6s 126us/sample - loss: 0.0394 - accuracy: 0.9873\n",
      "Epoch 40/100\n",
      "50000/50000 [==============================] - 6s 126us/sample - loss: 0.0365 - accuracy: 0.9877\n",
      "Epoch 41/100\n",
      "50000/50000 [==============================] - 6s 126us/sample - loss: 0.0353 - accuracy: 0.9876\n",
      "Epoch 42/100\n",
      "50000/50000 [==============================] - 6s 125us/sample - loss: 0.0357 - accuracy: 0.9884\n",
      "Epoch 43/100\n",
      "50000/50000 [==============================] - 6s 126us/sample - loss: 0.0284 - accuracy: 0.9907\n",
      "Epoch 44/100\n",
      "50000/50000 [==============================] - 6s 126us/sample - loss: 0.0293 - accuracy: 0.9905\n",
      "Epoch 45/100\n",
      "50000/50000 [==============================] - 6s 126us/sample - loss: 0.0358 - accuracy: 0.9885\n",
      "Epoch 46/100\n",
      "50000/50000 [==============================] - 6s 126us/sample - loss: 0.0254 - accuracy: 0.9918\n",
      "Epoch 47/100\n",
      "50000/50000 [==============================] - 6s 125us/sample - loss: 0.0227 - accuracy: 0.9929\n",
      "Epoch 48/100\n",
      "50000/50000 [==============================] - 6s 126us/sample - loss: 0.0330 - accuracy: 0.9889\n",
      "Epoch 49/100\n",
      "50000/50000 [==============================] - 6s 126us/sample - loss: 0.0326 - accuracy: 0.9898\n",
      "Epoch 50/100\n",
      "50000/50000 [==============================] - 6s 126us/sample - loss: 0.0335 - accuracy: 0.9888\n",
      "Epoch 51/100\n",
      "50000/50000 [==============================] - 6s 125us/sample - loss: 0.0237 - accuracy: 0.9921\n",
      "Epoch 52/100\n",
      "50000/50000 [==============================] - 6s 126us/sample - loss: 0.0208 - accuracy: 0.9934\n",
      "Epoch 53/100\n",
      "50000/50000 [==============================] - 6s 126us/sample - loss: 0.0311 - accuracy: 0.9902\n",
      "Epoch 54/100\n",
      "50000/50000 [==============================] - 6s 126us/sample - loss: 0.0314 - accuracy: 0.9889\n",
      "Epoch 55/100\n",
      "50000/50000 [==============================] - 6s 126us/sample - loss: 0.0222 - accuracy: 0.9927\n",
      "Epoch 56/100\n",
      "50000/50000 [==============================] - 6s 126us/sample - loss: 0.0299 - accuracy: 0.9902\n",
      "Epoch 57/100\n",
      "50000/50000 [==============================] - 6s 125us/sample - loss: 0.0295 - accuracy: 0.9903\n",
      "Epoch 58/100\n",
      "50000/50000 [==============================] - 6s 126us/sample - loss: 0.0231 - accuracy: 0.9927\n",
      "Epoch 59/100\n",
      "50000/50000 [==============================] - 6s 126us/sample - loss: 0.0244 - accuracy: 0.9930\n",
      "Epoch 60/100\n",
      "50000/50000 [==============================] - 6s 125us/sample - loss: 0.0202 - accuracy: 0.9931\n",
      "Epoch 61/100\n",
      "50000/50000 [==============================] - 6s 125us/sample - loss: 0.0253 - accuracy: 0.9919\n",
      "Epoch 62/100\n",
      "50000/50000 [==============================] - 6s 125us/sample - loss: 0.0310 - accuracy: 0.9905\n",
      "Epoch 63/100\n",
      "50000/50000 [==============================] - 6s 126us/sample - loss: 0.0177 - accuracy: 0.9941\n",
      "Epoch 64/100\n",
      "50000/50000 [==============================] - 6s 126us/sample - loss: 0.0190 - accuracy: 0.9941\n",
      "Epoch 65/100\n",
      "50000/50000 [==============================] - 6s 126us/sample - loss: 0.0280 - accuracy: 0.9914\n",
      "Epoch 66/100\n",
      "50000/50000 [==============================] - 6s 126us/sample - loss: 0.0277 - accuracy: 0.9913\n",
      "Epoch 67/100\n",
      "50000/50000 [==============================] - 6s 126us/sample - loss: 0.0196 - accuracy: 0.9940\n",
      "Epoch 68/100\n",
      "50000/50000 [==============================] - 6s 125us/sample - loss: 0.0158 - accuracy: 0.9949\n",
      "Epoch 69/100\n",
      "50000/50000 [==============================] - 6s 126us/sample - loss: 0.0226 - accuracy: 0.9928\n",
      "Epoch 70/100\n",
      "50000/50000 [==============================] - 6s 126us/sample - loss: 0.0326 - accuracy: 0.9901\n",
      "Epoch 71/100\n",
      "50000/50000 [==============================] - 6s 125us/sample - loss: 0.0176 - accuracy: 0.9942\n",
      "Epoch 72/100\n",
      "50000/50000 [==============================] - 6s 126us/sample - loss: 0.0160 - accuracy: 0.9946\n",
      "Epoch 73/100\n",
      "50000/50000 [==============================] - 6s 125us/sample - loss: 0.0221 - accuracy: 0.9929\n",
      "Epoch 74/100\n",
      "50000/50000 [==============================] - 6s 126us/sample - loss: 0.0253 - accuracy: 0.9919\n",
      "Epoch 75/100\n"
     ]
    },
    {
     "name": "stdout",
     "output_type": "stream",
     "text": [
      "50000/50000 [==============================] - 6s 125us/sample - loss: 0.0222 - accuracy: 0.9931\n",
      "Epoch 76/100\n",
      "50000/50000 [==============================] - 6s 125us/sample - loss: 0.0200 - accuracy: 0.9936\n",
      "Epoch 77/100\n",
      "50000/50000 [==============================] - 6s 125us/sample - loss: 0.0212 - accuracy: 0.9936\n",
      "Epoch 78/100\n",
      "50000/50000 [==============================] - 6s 125us/sample - loss: 0.0169 - accuracy: 0.9945\n",
      "Epoch 79/100\n",
      "50000/50000 [==============================] - 6s 125us/sample - loss: 0.0137 - accuracy: 0.9953\n",
      "Epoch 80/100\n",
      "50000/50000 [==============================] - 6s 125us/sample - loss: 0.0186 - accuracy: 0.9938\n",
      "Epoch 81/100\n",
      "50000/50000 [==============================] - 6s 125us/sample - loss: 0.0221 - accuracy: 0.9934\n",
      "Epoch 82/100\n",
      "50000/50000 [==============================] - 6s 125us/sample - loss: 0.0193 - accuracy: 0.9937\n",
      "Epoch 83/100\n",
      "50000/50000 [==============================] - 6s 124us/sample - loss: 0.0234 - accuracy: 0.9927\n",
      "Epoch 84/100\n",
      "50000/50000 [==============================] - 6s 125us/sample - loss: 0.0201 - accuracy: 0.9939\n",
      "Epoch 85/100\n",
      "50000/50000 [==============================] - 6s 125us/sample - loss: 0.0166 - accuracy: 0.9946\n",
      "Epoch 86/100\n",
      "50000/50000 [==============================] - 6s 124us/sample - loss: 0.0118 - accuracy: 0.9964\n",
      "Epoch 87/100\n",
      "50000/50000 [==============================] - 6s 124us/sample - loss: 0.0150 - accuracy: 0.9952\n",
      "Epoch 88/100\n",
      "50000/50000 [==============================] - 6s 125us/sample - loss: 0.0224 - accuracy: 0.9926\n",
      "Epoch 89/100\n",
      "50000/50000 [==============================] - 6s 125us/sample - loss: 0.0190 - accuracy: 0.9941\n",
      "Epoch 90/100\n",
      "50000/50000 [==============================] - 6s 124us/sample - loss: 0.0149 - accuracy: 0.9951\n",
      "Epoch 91/100\n",
      "50000/50000 [==============================] - 6s 129us/sample - loss: 0.0150 - accuracy: 0.9948\n",
      "Epoch 92/100\n",
      "50000/50000 [==============================] - 6s 126us/sample - loss: 0.0137 - accuracy: 0.9959\n",
      "Epoch 93/100\n",
      "50000/50000 [==============================] - 6s 126us/sample - loss: 0.0165 - accuracy: 0.9947\n",
      "Epoch 94/100\n",
      "50000/50000 [==============================] - 6s 126us/sample - loss: 0.0169 - accuracy: 0.9946\n",
      "Epoch 95/100\n",
      "50000/50000 [==============================] - 6s 126us/sample - loss: 0.0196 - accuracy: 0.9937\n",
      "Epoch 96/100\n",
      "50000/50000 [==============================] - 6s 126us/sample - loss: 0.0151 - accuracy: 0.9953\n",
      "Epoch 97/100\n",
      "50000/50000 [==============================] - 6s 126us/sample - loss: 0.0090 - accuracy: 0.9970\n",
      "Epoch 98/100\n",
      "50000/50000 [==============================] - 6s 126us/sample - loss: 0.0167 - accuracy: 0.9949\n",
      "Epoch 99/100\n",
      "50000/50000 [==============================] - 6s 126us/sample - loss: 0.0199 - accuracy: 0.9937\n",
      "Epoch 100/100\n",
      "50000/50000 [==============================] - 6s 126us/sample - loss: 0.0140 - accuracy: 0.9953\n"
     ]
    },
    {
     "data": {
      "text/plain": [
       "<tensorflow.python.keras.callbacks.History at 0x7fb10c039278>"
      ]
     },
     "execution_count": 4,
     "metadata": {},
     "output_type": "execute_result"
    }
   ],
   "source": [
    "classifier=Sequential()\n",
    "\n",
    "#卷積組合\n",
    "classifier.add(Convolution2D(32,(3,3),input_shape=(32,32,3),activation='relu'))#32,3,3,input_shape=(32,32,3),activation='relu''\n",
    "classifier.add(BatchNormalization())\n",
    "\n",
    "#卷積組合\n",
    "classifier.add(Convolution2D(32,(3,3)))\n",
    "classifier.add(BatchNormalization())\n",
    "classifier.add(MaxPooling2D(pool_size=(2,2)))\n",
    "\n",
    "#flatten\n",
    "classifier.add(Flatten())\n",
    "\n",
    "#FC\n",
    "classifier.add(Dense(100,activation='relu')) #output_dim=100,activation=relu\n",
    "\n",
    "#輸出\n",
    "classifier.add(Dense(10,activation='softmax'))\n",
    "\n",
    "#超過兩個就要選categorical_crossentrophy\n",
    "classifier.compile(optimizer = 'adam', loss = 'categorical_crossentropy', metrics = ['accuracy'])\n",
    "classifier.fit(x_train,y_train,batch_size=100,epochs=100)"
   ]
  },
  {
   "cell_type": "markdown",
   "metadata": {},
   "source": [
    "## 預測新圖片，輸入影像前處理要與訓練時相同\n",
    "#### ((X-mean)/(std+1e-7) ):這裡的mean跟std是訓練集的\n",
    "## 維度如下方示範"
   ]
  },
  {
   "cell_type": "code",
   "execution_count": 5,
   "metadata": {},
   "outputs": [
    {
     "data": {
      "text/plain": [
       "array([[1.2872600e-11, 0.0000000e+00, 1.0000000e+00, 1.1122531e-08,\n",
       "        2.1406092e-09, 0.0000000e+00, 1.9445413e-33, 0.0000000e+00,\n",
       "        2.1867329e-32, 0.0000000e+00]], dtype=float32)"
      ]
     },
     "execution_count": 5,
     "metadata": {},
     "output_type": "execute_result"
    }
   ],
   "source": [
    "input_example=(np.zeros(shape=(1,32,32,3))-mean_train)/(std_train+1e-7) \n",
    "classifier.predict(input_example)"
   ]
  }
 ],
 "metadata": {
  "kernelspec": {
   "display_name": "Python 3",
   "language": "python",
   "name": "python3"
  },
  "language_info": {
   "codemirror_mode": {
    "name": "ipython",
    "version": 3
   },
   "file_extension": ".py",
   "mimetype": "text/x-python",
   "name": "python",
   "nbconvert_exporter": "python",
   "pygments_lexer": "ipython3",
   "version": "3.6.8"
  }
 },
 "nbformat": 4,
 "nbformat_minor": 2
}
